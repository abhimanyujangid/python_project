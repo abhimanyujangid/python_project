{
  "nbformat": 4,
  "nbformat_minor": 0,
  "metadata": {
    "colab": {
      "provenance": [],
      "authorship_tag": "ABX9TyMooNqsKcZzTBeJmhNFeJwp",
      "include_colab_link": true
    },
    "kernelspec": {
      "name": "python3",
      "display_name": "Python 3"
    },
    "language_info": {
      "name": "python"
    }
  },
  "cells": [
    {
      "cell_type": "markdown",
      "metadata": {
        "id": "view-in-github",
        "colab_type": "text"
      },
      "source": [
        "<a href=\"https://colab.research.google.com/github/abhimanyujangid/python_project/blob/main/email_validation_py.ipynb\" target=\"_parent\"><img src=\"https://colab.research.google.com/assets/colab-badge.svg\" alt=\"Open In Colab\"/></a>"
      ]
    },
    {
      "cell_type": "code",
      "execution_count": 12,
      "metadata": {
        "colab": {
          "base_uri": "https://localhost:8080/"
        },
        "id": "4Dre5OAx4pxi",
        "outputId": "66713c6f-f72c-4c9c-9bc3-0bc03ee5a850"
      },
      "outputs": [
        {
          "output_type": "stream",
          "name": "stdout",
          "text": [
            "Enter your Email: abhimanu323@@gmil.com\n",
            "Wrong email format. Use only one @\n"
          ]
        }
      ],
      "source": [
        "email = input('Enter your Email: ')\n",
        "k, j, d = 0, 0, 0\n",
        "\n",
        "if len(email) >= 6:\n",
        "    if email[0].isalpha():\n",
        "        if \"@\" in email and email.count(\"@\") == 1:\n",
        "            domain = email.split(\"@\")[1]\n",
        "            if \".\" in domain:\n",
        "                if domain[-4] == \".\" or domain[-3] == \".\":\n",
        "                    for i in email:\n",
        "                        if i.isspace():\n",
        "                            k = 1\n",
        "                        elif i.isalpha():\n",
        "                            if i == i.upper():\n",
        "                                j = 1\n",
        "                        elif i.isdigit():\n",
        "                            continue\n",
        "                        elif i == \"_\" or i == \".\" or i == \"@\":\n",
        "                            continue\n",
        "                        else:\n",
        "                            d = 1\n",
        "                    if k == 1 or j == 1 or d == 1:\n",
        "                        print(\"Wrong email. Do not use any spaces or uppercase letters.\")\n",
        "                else:\n",
        "                    print(\"Wrong email format. Missing dot in domain part.\")\n",
        "            else:\n",
        "                print(\"Wrong email format. Missing dot in domain part.\")\n",
        "        else:\n",
        "            print(\"Wrong email format. Use only one @\")\n",
        "    else:\n",
        "        print(\"Wrong email format. Use alphabet as the first character.\")\n",
        "else:\n",
        "    print(\"Wrong email format. Use more than 6 characters.\")\n"
      ]
    },
    {
      "cell_type": "code",
      "source": [],
      "metadata": {
        "id": "eSdCfMAiAxOK"
      },
      "execution_count": null,
      "outputs": []
    }
  ]
}